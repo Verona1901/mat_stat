{
  "nbformat": 4,
  "nbformat_minor": 0,
  "metadata": {
    "colab": {
      "provenance": [],
      "authorship_tag": "ABX9TyN31iy66ZmBtOly6PpoAPOd",
      "include_colab_link": true
    },
    "kernelspec": {
      "name": "python3",
      "display_name": "Python 3"
    },
    "language_info": {
      "name": "python"
    }
  },
  "cells": [
    {
      "cell_type": "markdown",
      "metadata": {
        "id": "view-in-github",
        "colab_type": "text"
      },
      "source": [
        "<a href=\"https://colab.research.google.com/github/Verona1901/mat_stat/blob/main/DZ8.ipynb\" target=\"_parent\"><img src=\"https://colab.research.google.com/assets/colab-badge.svg\" alt=\"Open In Colab\"/></a>"
      ]
    },
    {
      "cell_type": "markdown",
      "source": [
        "**1. Даны значения величины заработной платы заемщиков банка (zp) и значения их поведенческого кредитного скоринга (ks):**\n",
        "\n",
        "zp = [35, 45, 190, 200, 40, 70, 54, 150, 120, 110],\n",
        "\n",
        "ks = [401, 574, 874, 919, 459, 739, 653, 902, 746, 832].\n",
        "\n",
        "Найдите ковариацию этих двух величин с помощью элементарных действий, а затем с помощью функции cov из numpy\n",
        "\n",
        "Полученные значения должны быть равны.\n",
        "\n",
        "Найдите коэффициент корреляции Пирсона с помощью ковариации и среднеквадратичных отклонений двух признаков, а затем с использованием функций из библиотек numpy и pandas."
      ],
      "metadata": {
        "id": "UpxicVrFsZV4"
      }
    },
    {
      "cell_type": "code",
      "source": [
        "import numpy as np\n",
        "import scipy.stats as stats\n",
        "from statsmodels.stats.weightstats import _tconfint_generic as t_stat"
      ],
      "metadata": {
        "id": "vdhPonEUtGp1"
      },
      "execution_count": 26,
      "outputs": []
    },
    {
      "cell_type": "code",
      "source": [
        "# Найдем ковариацию \n",
        "# cov_zp_ks = M(zp*ks) - M(zp) * M(ks)\n",
        "\n",
        "zp = np.array([35, 45, 190, 200, 40, 70, 54, 150, 120, 110])\n",
        "ks = np.array([401, 574, 874, 919, 459, 739, 653, 902, 746, 832])\n",
        "\n",
        "cov_zp_ks = np.mean(zp*ks) - np.mean(zp)*np.mean(ks)\n",
        "cov_zp_ks   "
      ],
      "metadata": {
        "colab": {
          "base_uri": "https://localhost:8080/"
        },
        "id": "_CAmxB-ztycZ",
        "outputId": "a83d2802-d0fc-4b6c-b0a3-166477975ecf"
      },
      "execution_count": 5,
      "outputs": [
        {
          "output_type": "execute_result",
          "data": {
            "text/plain": [
              "9157.839999999997"
            ]
          },
          "metadata": {},
          "execution_count": 5
        }
      ]
    },
    {
      "cell_type": "code",
      "source": [
        "# Расчет ковариации с помощью функции \n",
        "np.cov(zp, ks, ddof = 0)[0,1]"
      ],
      "metadata": {
        "colab": {
          "base_uri": "https://localhost:8080/"
        },
        "id": "DkjE2_iNvuOq",
        "outputId": "d54726a9-644a-449d-822b-0ed75c86e33e"
      },
      "execution_count": 9,
      "outputs": [
        {
          "output_type": "execute_result",
          "data": {
            "text/plain": [
              "9157.84"
            ]
          },
          "metadata": {},
          "execution_count": 9
        }
      ]
    },
    {
      "cell_type": "code",
      "source": [
        "# Найдем коэффициент корреляции Пирсона с помощью ковариации и среднеквадратичных отклонений двух признаков\n",
        "# R_zp_ks = cov_zp_ks/σ_zp * σ_ks\n",
        "r_zp_ks = cov_zp_ks / (np.std(zp) * np.std(ks))\n",
        "r_zp_ks\n"
      ],
      "metadata": {
        "colab": {
          "base_uri": "https://localhost:8080/"
        },
        "id": "TjlRfDP8yhJe",
        "outputId": "af959822-6346-417d-bb37-e093f57a5bd7"
      },
      "execution_count": 11,
      "outputs": [
        {
          "output_type": "execute_result",
          "data": {
            "text/plain": [
              "0.8874900920739158"
            ]
          },
          "metadata": {},
          "execution_count": 11
        }
      ]
    },
    {
      "cell_type": "code",
      "source": [
        "# Коэффициент корреляции Пирсона с помощью функции\n",
        "np.corrcoef(zp, ks)"
      ],
      "metadata": {
        "colab": {
          "base_uri": "https://localhost:8080/"
        },
        "id": "-OX3SWHk0-RM",
        "outputId": "e43fd21f-d3e8-4d32-8b43-8a0ec116a89e"
      },
      "execution_count": 12,
      "outputs": [
        {
          "output_type": "execute_result",
          "data": {
            "text/plain": [
              "array([[1.        , 0.88749009],\n",
              "       [0.88749009, 1.        ]])"
            ]
          },
          "metadata": {},
          "execution_count": 12
        }
      ]
    },
    {
      "cell_type": "markdown",
      "source": [
        "**2. Измерены значения IQ выборки студентов,**\n",
        "обучающихся в местных технических вузах \n",
        "131, 125, 115, 122, 131, 115, 107, 99, 125, 111. \n",
        "Известно, что в генеральной совокупности IQ распределен нормально.\n",
        "\n",
        "Найдите доверительный интервал для математического ожидания с надежностью 0.95."
      ],
      "metadata": {
        "id": "GQJpdMtl5EdD"
      }
    },
    {
      "cell_type": "code",
      "source": [
        "# Расчитанем длверительный интервал по формуле:\n",
        "# p ± Z_α/2 * (σ/√ n)\n",
        "iq = np.array ([131, 125, 115, 122, 131, 115, 107, 99, 125, 111])\n",
        "\n",
        "# найдем среднее для выборки\n",
        "average_iq = np.mean(iq)\n",
        "average_iq"
      ],
      "metadata": {
        "colab": {
          "base_uri": "https://localhost:8080/"
        },
        "id": "P0N8b9es5RXB",
        "outputId": "c5e03b9e-1a55-4fb2-e48f-9157ec56b8b5"
      },
      "execution_count": 17,
      "outputs": [
        {
          "output_type": "execute_result",
          "data": {
            "text/plain": [
              "118.1"
            ]
          },
          "metadata": {},
          "execution_count": 17
        }
      ]
    },
    {
      "cell_type": "code",
      "source": [
        "# Несмещенная дисперсия\n",
        "d = np.var(iq, ddof =1)\n",
        "d"
      ],
      "metadata": {
        "colab": {
          "base_uri": "https://localhost:8080/"
        },
        "id": "D6_bbnWN-UOB",
        "outputId": "364c77fc-3f6f-4fb0-8384-4942c76add64"
      },
      "execution_count": 18,
      "outputs": [
        {
          "output_type": "execute_result",
          "data": {
            "text/plain": [
              "111.21111111111111"
            ]
          },
          "metadata": {},
          "execution_count": 18
        }
      ]
    },
    {
      "cell_type": "markdown",
      "source": [
        "По таблице для критерия Стьюдента находим t = 0.975 (alpha = 0.05 , 9 степеней свободы)."
      ],
      "metadata": {
        "id": "lMm4JEmL_gNZ"
      }
    },
    {
      "cell_type": "code",
      "source": [
        "alpha = 0.05\n",
        "n = (len(iq))\n",
        "\n",
        "t_table = stats.t.ppf(1 - alpha/2, n-1)\n",
        "t_table"
      ],
      "metadata": {
        "colab": {
          "base_uri": "https://localhost:8080/"
        },
        "id": "pmNINNENBFZa",
        "outputId": "7f29ab85-1914-4e47-e4a9-d615e8175437"
      },
      "execution_count": 22,
      "outputs": [
        {
          "output_type": "execute_result",
          "data": {
            "text/plain": [
              "2.2621571627409915"
            ]
          },
          "metadata": {},
          "execution_count": 22
        }
      ]
    },
    {
      "cell_type": "code",
      "source": [
        "# Доверительный интервал\n",
        "average_iq - t_table * np.sqrt(d/(len(iq)))"
      ],
      "metadata": {
        "colab": {
          "base_uri": "https://localhost:8080/"
        },
        "id": "oPVbBdKXDWhR",
        "outputId": "9a9ea1ec-527f-4d3f-eb46-a067c943f5a7"
      },
      "execution_count": 30,
      "outputs": [
        {
          "output_type": "execute_result",
          "data": {
            "text/plain": [
              "110.55608365158724"
            ]
          },
          "metadata": {},
          "execution_count": 30
        }
      ]
    },
    {
      "cell_type": "code",
      "source": [
        "average_iq + t_table * np.sqrt(d/(len(iq)))"
      ],
      "metadata": {
        "colab": {
          "base_uri": "https://localhost:8080/"
        },
        "id": "tmd7zF7pEOrX",
        "outputId": "507051eb-cd0b-4699-d7f8-eaf4c50f7586"
      },
      "execution_count": 29,
      "outputs": [
        {
          "output_type": "execute_result",
          "data": {
            "text/plain": [
              "125.64391634841274"
            ]
          },
          "metadata": {},
          "execution_count": 29
        }
      ]
    },
    {
      "cell_type": "code",
      "source": [
        "# С помощью функции\n",
        "t_stat(average_iq,np.sqrt(d/10), len(iq)-1, 0.05, 'two-sided')"
      ],
      "metadata": {
        "colab": {
          "base_uri": "https://localhost:8080/"
        },
        "id": "8fzM1cenGrWG",
        "outputId": "e0838d82-2da8-4e11-8519-2cef99d11cd9"
      },
      "execution_count": 37,
      "outputs": [
        {
          "output_type": "execute_result",
          "data": {
            "text/plain": [
              "(110.55608365158724, 125.64391634841274)"
            ]
          },
          "metadata": {},
          "execution_count": 37
        }
      ]
    },
    {
      "cell_type": "markdown",
      "source": [
        "**3.**\n",
        "Известно, что рост футболистов в сборной распределен нормально с дисперсией генеральной совокупности, равной 25 кв.см. Объем выборки равен 27, среднее выборочное составляет 174.2. Найдите доверительный интервал для математического ожидания с надежностью 0.95."
      ],
      "metadata": {
        "id": "5cahgjIDIqnG"
      }
    },
    {
      "cell_type": "code",
      "source": [
        "x_mean = 174.2\n",
        "n = 27\n",
        "D = 25\n",
        "alpha = 0.05\n",
        "t_stat(x_mean, np.sqrt(D/n), n-1, alpha, 'two-sided')\n"
      ],
      "metadata": {
        "colab": {
          "base_uri": "https://localhost:8080/"
        },
        "id": "sgzIRpwdI0ez",
        "outputId": "ddbb4afc-afd0-4832-ecaf-5ec6575a54af"
      },
      "execution_count": 43,
      "outputs": [
        {
          "output_type": "execute_result",
          "data": {
            "text/plain": [
              "(172.2220658754539, 176.17793412454608)"
            ]
          },
          "metadata": {},
          "execution_count": 43
        }
      ]
    }
  ]
}