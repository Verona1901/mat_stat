{
  "nbformat": 4,
  "nbformat_minor": 0,
  "metadata": {
    "colab": {
      "provenance": [],
      "authorship_tag": "ABX9TyMR53InCW1nujH3CjiD/TP9",
      "include_colab_link": true
    },
    "kernelspec": {
      "name": "python3",
      "display_name": "Python 3"
    },
    "language_info": {
      "name": "python"
    }
  },
  "cells": [
    {
      "cell_type": "markdown",
      "metadata": {
        "id": "view-in-github",
        "colab_type": "text"
      },
      "source": [
        "<a href=\"https://colab.research.google.com/github/Verona1901/mat_stat/blob/main/DZ10.ipynb\" target=\"_parent\"><img src=\"https://colab.research.google.com/assets/colab-badge.svg\" alt=\"Open In Colab\"/></a>"
      ]
    },
    {
      "cell_type": "markdown",
      "source": [
        "Провести дисперсионный анализ для определения того, есть ли различия среднего роста среди взрослых футболистов, хоккеистов и штангистов.\n",
        "Даны значения роста в трех группах случайно выбранных спортсменов:\n",
        "\n",
        "Футболисты: 173, 175, 180, 178, 177, 185, 183, 182.\n",
        "\n",
        "Хоккеисты: 177, 179, 180, 188, 177, 172, 171, 184, 180.\n",
        "\n",
        "Штангисты: 172, 173, 169, 177, 166, 180, 178, 177, 172, 166, 170."
      ],
      "metadata": {
        "id": "YxMCnXMXXBeZ"
      }
    },
    {
      "cell_type": "code",
      "source": [
        "import numpy as np\n",
        "from scipy import stats"
      ],
      "metadata": {
        "id": "B6pVqFWSXHft"
      },
      "execution_count": 59,
      "outputs": []
    },
    {
      "cell_type": "code",
      "source": [
        "football_players = np.array([173, 175, 180, 178, 177, 185, 183, 182])\n",
        "hockey_players = np.array([177, 179, 180, 188, 177, 172, 171, 184, 180])\n",
        "weightlifters = np.array([172, 173, 169, 177, 166, 180, 178, 177, 172, 166, 170])"
      ],
      "metadata": {
        "id": "l_nPaQzjbHI5"
      },
      "execution_count": 60,
      "outputs": []
    },
    {
      "cell_type": "markdown",
      "source": [
        "α = 0,05. Проверим данные на нормальность распределения с помощью теста Шапиро-Уилка"
      ],
      "metadata": {
        "id": "v5Yg2c7t8yl1"
      }
    },
    {
      "cell_type": "code",
      "source": [
        "stats.shapiro(football_players)"
      ],
      "metadata": {
        "colab": {
          "base_uri": "https://localhost:8080/"
        },
        "id": "ss4ymk5C9BL3",
        "outputId": "98b234bf-e399-4795-9388-2f67ec0e014c"
      },
      "execution_count": 61,
      "outputs": [
        {
          "output_type": "execute_result",
          "data": {
            "text/plain": [
              "ShapiroResult(statistic=0.9775082468986511, pvalue=0.9495404362678528)"
            ]
          },
          "metadata": {},
          "execution_count": 61
        }
      ]
    },
    {
      "cell_type": "code",
      "source": [
        "stats.shapiro(hockey_players)"
      ],
      "metadata": {
        "colab": {
          "base_uri": "https://localhost:8080/"
        },
        "id": "-Vb1MeKOs3Z2",
        "outputId": "b2e9fac1-089a-48fa-deed-ce27d798b5db"
      },
      "execution_count": 62,
      "outputs": [
        {
          "output_type": "execute_result",
          "data": {
            "text/plain": [
              "ShapiroResult(statistic=0.9579196572303772, pvalue=0.7763139009475708)"
            ]
          },
          "metadata": {},
          "execution_count": 62
        }
      ]
    },
    {
      "cell_type": "code",
      "source": [
        "stats.shapiro(weightlifters)"
      ],
      "metadata": {
        "colab": {
          "base_uri": "https://localhost:8080/"
        },
        "id": "7gJ4nX1htDte",
        "outputId": "7b7b8b14-6a2c-43e1-94d5-5a4d22a50bf6"
      },
      "execution_count": 63,
      "outputs": [
        {
          "output_type": "execute_result",
          "data": {
            "text/plain": [
              "ShapiroResult(statistic=0.9386808276176453, pvalue=0.5051165223121643)"
            ]
          },
          "metadata": {},
          "execution_count": 63
        }
      ]
    },
    {
      "cell_type": "markdown",
      "source": [
        "Значение p-value > alpha - принимается гипотеза H0, выборка подчиняется нормальному закону."
      ],
      "metadata": {
        "id": "1moVG4zUtSUP"
      }
    },
    {
      "cell_type": "markdown",
      "source": [
        "Выполним тест Бартлетта для определения того, равны ли дисперсии между группами спортсменов.\n",
        "α = 0,05"
      ],
      "metadata": {
        "id": "hcrx4cWhuUlB"
      }
    },
    {
      "cell_type": "code",
      "source": [
        "stats.bartlett(football_players, hockey_players, weightlifters)"
      ],
      "metadata": {
        "colab": {
          "base_uri": "https://localhost:8080/"
        },
        "id": "YPPVkx05ulPB",
        "outputId": "7399aa3c-9755-4a02-97c9-79a2cd58da54"
      },
      "execution_count": 64,
      "outputs": [
        {
          "output_type": "execute_result",
          "data": {
            "text/plain": [
              "BartlettResult(statistic=0.4640521043406442, pvalue=0.7929254656083131)"
            ]
          },
          "metadata": {},
          "execution_count": 64
        }
      ]
    },
    {
      "cell_type": "markdown",
      "source": [
        "Так как p-value больше уровня значимости  α = 0,05, Нулевая гипотеза не отвергается,  дисперсия среди каждой группы равна.\n",
        "\n",
        "Таким образом, можно выполнить однофакторный дисперсионный анализ."
      ],
      "metadata": {
        "id": "hq06TiqXu8r2"
      }
    },
    {
      "cell_type": "markdown",
      "source": [
        "Сформулируем гипотезы:\n",
        "\n",
        "H 0 (нулевая гипотеза): µ 1 = µ 2 = µ 3 (различий среднего роста среди взрослых футболистов, хоккеистов и штангистов нет)\n",
        "\n",
        "H 1 (альтернативная гипотеза): по крайней мере одно среднее значение отличаетсяот остальных. имеются различия среднего роста среди спортсменов.\n",
        "\n",
        "Выполним односторонний ANOVA."
      ],
      "metadata": {
        "id": "ea_IgBCayVd2"
      }
    },
    {
      "cell_type": "code",
      "source": [
        "stats.f_oneway(football_players, hockey_players, weightlifters)"
      ],
      "metadata": {
        "colab": {
          "base_uri": "https://localhost:8080/"
        },
        "id": "8GiSlpw20TcO",
        "outputId": "e6a043c4-d4bf-40ff-db13-4d5c54ffc6a7"
      },
      "execution_count": 65,
      "outputs": [
        {
          "output_type": "execute_result",
          "data": {
            "text/plain": [
              "F_onewayResult(statistic=5.500053450812596, pvalue=0.010482206918698694)"
            ]
          },
          "metadata": {},
          "execution_count": 65
        }
      ]
    },
    {
      "cell_type": "markdown",
      "source": [
        "Статистика F-теста = 5.50005, а соответствующее значение p = 0.01048.Поскольку p-значение меньше 0,05, отвергаем нулевую гипотезу. Имеются различия среднего роста спортсменов."
      ],
      "metadata": {
        "id": "0DlIvruF14Bz"
      }
    },
    {
      "cell_type": "markdown",
      "source": [
        "Проведем post hoc tests для определения в каких группах имеется различие среднего роста."
      ],
      "metadata": {
        "id": "MsJtBfGs2mP0"
      }
    },
    {
      "cell_type": "code",
      "source": [
        "stats.f_oneway(football_players, hockey_players)"
      ],
      "metadata": {
        "colab": {
          "base_uri": "https://localhost:8080/"
        },
        "id": "SaAWZgP23pjO",
        "outputId": "a4788101-98f9-4acf-fd9f-909a8a55e00e"
      },
      "execution_count": 66,
      "outputs": [
        {
          "output_type": "execute_result",
          "data": {
            "text/plain": [
              "F_onewayResult(statistic=0.038473767885532584, pvalue=0.8471274829862326)"
            ]
          },
          "metadata": {},
          "execution_count": 66
        }
      ]
    },
    {
      "cell_type": "code",
      "source": [
        "stats.f_oneway(football_players, weightlifters)"
      ],
      "metadata": {
        "colab": {
          "base_uri": "https://localhost:8080/"
        },
        "id": "94ltemHF329p",
        "outputId": "4349c231-922d-422b-89a3-bc45f279212a"
      },
      "execution_count": 67,
      "outputs": [
        {
          "output_type": "execute_result",
          "data": {
            "text/plain": [
              "F_onewayResult(statistic=9.232797542249022, pvalue=0.007418502503470366)"
            ]
          },
          "metadata": {},
          "execution_count": 67
        }
      ]
    },
    {
      "cell_type": "code",
      "source": [
        "stats.f_oneway(hockey_players, weightlifters)"
      ],
      "metadata": {
        "colab": {
          "base_uri": "https://localhost:8080/"
        },
        "id": "K9ieSLVz350g",
        "outputId": "1b6b2532-999f-4fda-c170-b4f2e9b9eddf"
      },
      "execution_count": 68,
      "outputs": [
        {
          "output_type": "execute_result",
          "data": {
            "text/plain": [
              "F_onewayResult(statistic=6.86, pvalue=0.017384077963160147)"
            ]
          },
          "metadata": {},
          "execution_count": 68
        }
      ]
    },
    {
      "cell_type": "markdown",
      "source": [
        "Таким образом, можно сделать вывод, что в группах спортсменов (football_players, hockey_players) - футболистов и хоккеистов, можно считать, что статистически значимых различий нет, так как pvalue=0.84712 > 0,05. \n",
        "\n",
        "Различия наблюдаются только между футболистами и штангистами и хоккеистами и штангистами."
      ],
      "metadata": {
        "id": "IY0AynmE4TLF"
      }
    }
  ]
}